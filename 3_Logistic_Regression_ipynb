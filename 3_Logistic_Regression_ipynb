{
  "nbformat": 4,
  "nbformat_minor": 0,
  "metadata": {
    "colab": {
      "name": "3_Logistic_Regression.ipynb의 사본",
      "provenance": [],
      "collapsed_sections": [],
      "include_colab_link": true
    },
    "kernelspec": {
      "name": "python3",
      "display_name": "Python 3"
    }
  },
  "cells": [
    {
      "cell_type": "markdown",
      "metadata": {
        "id": "view-in-github",
        "colab_type": "text"
      },
      "source": [
        "<a href=\"https://colab.research.google.com/github/YujinSuh/Python_ML_edu/blob/master/3_Logistic_Regression_ipynb\" target=\"_parent\"><img src=\"https://colab.research.google.com/assets/colab-badge.svg\" alt=\"Open In Colab\"/></a>"
      ]
    },
    {
      "cell_type": "markdown",
      "metadata": {
        "id": "L7hs8YhKQLYl",
        "colab_type": "text"
      },
      "source": [
        "# 로지스틱 회귀분석 실습"
      ]
    },
    {
      "cell_type": "markdown",
      "metadata": {
        "id": "uAAkUfisQVgQ",
        "colab_type": "text"
      },
      "source": [
        "python의 scikit-learn 패키지를 이용해 정규화 회귀분석을 직접 실행해보자."
      ]
    },
    {
      "cell_type": "markdown",
      "metadata": {
        "id": "oumro28XQZHR",
        "colab_type": "text"
      },
      "source": [
        "### 데이터 불러오기 및 분할하기"
      ]
    },
    {
      "cell_type": "markdown",
      "metadata": {
        "id": "L7rQ6wnTQtuv",
        "colab_type": "text"
      },
      "source": [
        "로지스틱 회귀분석 실습을 위해 기존의 예측용 데이터셋이 아닌 분류용 데이터셋을 사용해 보자. 이번에 사용할 cancer dataset은 유방암 분류에 대한 데이터이다. 독립 변수는 30개이며, 종속 변수는 양성과 악성의 두 가지 범주를 가지고 있다. 자세한 사항은 [이곳](https://scikit-learn.org/stable/datasets/index.html#breast-cancer-wisconsin-diagnostic-dataset)에서 확인할 수 있다."
      ]
    },
    {
      "cell_type": "code",
      "metadata": {
        "id": "xzns4N-dQK-B",
        "colab_type": "code",
        "colab": {
          "base_uri": "https://localhost:8080/",
          "height": 36
        },
        "outputId": "b5bca13f-12e2-4c65-80c4-ace5577af42c"
      },
      "source": [
        "from sklearn import datasets\n",
        "import numpy as np\n",
        "data = datasets.load_breast_cancer()\n",
        "\n",
        "x = data['data']\n",
        "y = data['target']\n",
        "\n",
        "print(x.shape, y.shape)"
      ],
      "execution_count": null,
      "outputs": [
        {
          "output_type": "stream",
          "text": [
            "(569, 30) (569,)\n"
          ],
          "name": "stdout"
        }
      ]
    },
    {
      "cell_type": "code",
      "metadata": {
        "id": "hpysI3K3QCgh",
        "colab_type": "code",
        "colab": {
          "base_uri": "https://localhost:8080/",
          "height": 36
        },
        "outputId": "d7c3cb5c-4b9e-46dd-c17b-21046b4b7945"
      },
      "source": [
        "from sklearn.model_selection import train_test_split\n",
        "\n",
        "# 데이터 나누기 - 6:2:2 비율\n",
        "x_train, x_test, y_train, y_test = train_test_split(x, y, test_size=0.2, random_state=1)\n",
        "x_train, x_val, y_train, y_val = train_test_split(x_train, y_train, test_size=0.25, random_state=1)\n",
        "\n",
        "print(x_train.shape, x_val.shape, x_test.shape)"
      ],
      "execution_count": null,
      "outputs": [
        {
          "output_type": "stream",
          "text": [
            "(341, 30) (114, 30) (114, 30)\n"
          ],
          "name": "stdout"
        }
      ]
    },
    {
      "cell_type": "markdown",
      "metadata": {
        "id": "LH3xV_iUQkss",
        "colab_type": "text"
      },
      "source": [
        "### 모델 학습 및 평가하기"
      ]
    },
    {
      "cell_type": "markdown",
      "metadata": {
        "id": "3Wc-DNL9TtNy",
        "colab_type": "text"
      },
      "source": [
        "[LogisticRegression](https://scikit-learn.org/stable/modules/generated/sklearn.linear_model.LogisticRegression.html?highlight=logisticregression#sklearn.linear_model.LogisticRegression) 에 대한 자세한 설명은 링크를 참조하자. 설명을 읽어보면 선형 회귀분석과 마찬가지로 각종 regularization을 제공함을 알 수 있다."
      ]
    },
    {
      "cell_type": "code",
      "metadata": {
        "id": "cvYpJe8AQkfn",
        "colab_type": "code",
        "colab": {
          "base_uri": "https://localhost:8080/",
          "height": 280
        },
        "outputId": "14a6298c-d4c4-4132-c46c-50fdd4cf38ce"
      },
      "source": [
        "from sklearn.linear_model import LogisticRegression\n",
        "logistic = LogisticRegression()\n",
        "logistic.fit(x_train, y_train)"
      ],
      "execution_count": null,
      "outputs": [
        {
          "output_type": "stream",
          "text": [
            "/usr/local/lib/python3.6/dist-packages/sklearn/linear_model/_logistic.py:940: ConvergenceWarning: lbfgs failed to converge (status=1):\n",
            "STOP: TOTAL NO. of ITERATIONS REACHED LIMIT.\n",
            "\n",
            "Increase the number of iterations (max_iter) or scale the data as shown in:\n",
            "    https://scikit-learn.org/stable/modules/preprocessing.html\n",
            "Please also refer to the documentation for alternative solver options:\n",
            "    https://scikit-learn.org/stable/modules/linear_model.html#logistic-regression\n",
            "  extra_warning_msg=_LOGISTIC_SOLVER_CONVERGENCE_MSG)\n"
          ],
          "name": "stderr"
        },
        {
          "output_type": "execute_result",
          "data": {
            "text/plain": [
              "LogisticRegression(C=1.0, class_weight=None, dual=False, fit_intercept=True,\n",
              "                   intercept_scaling=1, l1_ratio=None, max_iter=100,\n",
              "                   multi_class='auto', n_jobs=None, penalty='l2',\n",
              "                   random_state=None, solver='lbfgs', tol=0.0001, verbose=0,\n",
              "                   warm_start=False)"
            ]
          },
          "metadata": {
            "tags": []
          },
          "execution_count": 3
        }
      ]
    },
    {
      "cell_type": "markdown",
      "metadata": {
        "id": "jDPwClOuTcEk",
        "colab_type": "text"
      },
      "source": [
        "분류 문제의 경우 confusion matrix와 정확도를 이용해 성능을 확인해 볼 수 있다.\n",
        "아래와 같이 training, validation, test의 성능을 구해 보자."
      ]
    },
    {
      "cell_type": "code",
      "metadata": {
        "id": "JT6HMT92QhL1",
        "colab_type": "code",
        "colab": {
          "base_uri": "https://localhost:8080/",
          "height": 73
        },
        "outputId": "2f150afc-7ae6-47cf-9af5-f9ed5256231d"
      },
      "source": [
        "from sklearn.metrics import accuracy_score, confusion_matrix\n",
        "\n",
        "pred_train = logistic.predict(x_train)\n",
        "print(f'training accuracy: {accuracy_score(y_train, pred_train)}')\n",
        "print(confusion_matrix(y_train, pred_train))"
      ],
      "execution_count": null,
      "outputs": [
        {
          "output_type": "stream",
          "text": [
            "training accuracy: 0.9618768328445748\n",
            "[[122   8]\n",
            " [  5 206]]\n"
          ],
          "name": "stdout"
        }
      ]
    },
    {
      "cell_type": "code",
      "metadata": {
        "id": "2ggW_btASrIn",
        "colab_type": "code",
        "colab": {
          "base_uri": "https://localhost:8080/",
          "height": 73
        },
        "outputId": "6e58abe1-0779-4d9c-cfa8-5577ee658668"
      },
      "source": [
        "pred_val = logistic.predict(x_val)\n",
        "print(f'validation accuracy: {accuracy_score(y_val, pred_val)}')\n",
        "print(confusion_matrix(y_val, pred_val))"
      ],
      "execution_count": null,
      "outputs": [
        {
          "output_type": "stream",
          "text": [
            "validation accuracy: 0.9649122807017544\n",
            "[[37  3]\n",
            " [ 1 73]]\n"
          ],
          "name": "stdout"
        }
      ]
    },
    {
      "cell_type": "code",
      "metadata": {
        "id": "CaZTdEuQEOte",
        "colab_type": "code",
        "colab": {
          "base_uri": "https://localhost:8080/",
          "height": 73
        },
        "outputId": "abd76467-4d07-43cb-e91d-ae4f5ea315ef"
      },
      "source": [
        "pred_test = logistic.predict(x_test)\n",
        "print(f'test accuracy: {accuracy_score(y_test, pred_test)}')\n",
        "print(confusion_matrix(y_test, pred_test))"
      ],
      "execution_count": null,
      "outputs": [
        {
          "output_type": "stream",
          "text": [
            "test accuracy: 0.956140350877193\n",
            "[[37  5]\n",
            " [ 0 72]]\n"
          ],
          "name": "stdout"
        }
      ]
    },
    {
      "cell_type": "markdown",
      "metadata": {
        "id": "kNabQ5fjA-6J",
        "colab_type": "text"
      },
      "source": [
        "앞서 등장한 경고 문구에 대해 알아보자. \n",
        "\n",
        "> ConvergenceWarning: lbfgs failed to converge (status=1): STOP: TOTAL NO. of ITERATIONS REACHED LIMIT.\n",
        "\n",
        "\n",
        "수업 시간에 배웠듯이, 로지스틱 회귀분석의 경우는 선형 회귀분석과 다르게 미분으로 간단히 최적의 매개변수를 구할 수 없다. 따라서 적절한 최적화 방법을 적용해야 하는데, 위 경고문은 이 최적화 과정이 계산 횟수의 제한으로 인해 완료되지 못하고 도중에 멈추었다는 뜻이다. 횟수의 제한을 풀어 최적화를 완료해 보자.\n",
        "\n",
        "\n"
      ]
    },
    {
      "cell_type": "code",
      "metadata": {
        "id": "vZSeuGah_Pzv",
        "colab_type": "code",
        "colab": {
          "base_uri": "https://localhost:8080/",
          "height": 111
        },
        "outputId": "dcddd684-da22-450d-ffe3-901717276c9d"
      },
      "source": [
        "# TODO: 경고 문구 없이 로지스틱 회귀분석 학습 완료해 보기\n",
        "logistic2 = LogisticRegression(max_iter = 10000)\n",
        "logistic2.fit(x_train, y_train)"
      ],
      "execution_count": null,
      "outputs": [
        {
          "output_type": "execute_result",
          "data": {
            "text/plain": [
              "LogisticRegression(C=1.0, class_weight=None, dual=False, fit_intercept=True,\n",
              "                   intercept_scaling=1, l1_ratio=None, max_iter=10000,\n",
              "                   multi_class='auto', n_jobs=None, penalty='l2',\n",
              "                   random_state=None, solver='lbfgs', tol=0.0001, verbose=0,\n",
              "                   warm_start=False)"
            ]
          },
          "metadata": {
            "tags": []
          },
          "execution_count": 10
        }
      ]
    },
    {
      "cell_type": "code",
      "metadata": {
        "id": "i3Eo-Q2y_U6g",
        "colab_type": "code",
        "colab": {
          "base_uri": "https://localhost:8080/",
          "height": 185
        },
        "outputId": "9421185b-9ca5-4d64-d9fc-d3c1dfa65d6f"
      },
      "source": [
        "# TODO: 학습한 모델의 training, validation, test 정확도 알아보기\n",
        "pred_train2 = logistic2.predict(x_train)\n",
        "print(f'training accuracy: {accuracy_score(y_train, pred_train2)}')\n",
        "print(confusion_matrix(y_train, pred_train2))\n",
        "\n",
        "pred_val2 = logistic2.predict(x_val)\n",
        "print(f'validation accuracy: {accuracy_score(y_val, pred_val2)}')\n",
        "print(confusion_matrix(y_val, pred_val2))\n",
        "\n",
        "\n",
        "pred_test2 = logistic2.predict(x_test)\n",
        "print(f'test accuracy: {accuracy_score(y_test, pred_test2)}')\n",
        "print(confusion_matrix(y_test, pred_test2))\n",
        "\n",
        "#무조건 과적합을 한다고 좋은게 아님을 알수 있다. (train 정확도는 올라갔지만 test는 내려감)\n",
        "\n"
      ],
      "execution_count": null,
      "outputs": [
        {
          "output_type": "stream",
          "text": [
            "training accuracy: 0.9648093841642229\n",
            "[[123   7]\n",
            " [  5 206]]\n",
            "validation accuracy: 0.9649122807017544\n",
            "[[37  3]\n",
            " [ 1 73]]\n",
            "test accuracy: 0.9473684210526315\n",
            "[[37  5]\n",
            " [ 1 71]]\n"
          ],
          "name": "stdout"
        }
      ]
    }
  ]
}